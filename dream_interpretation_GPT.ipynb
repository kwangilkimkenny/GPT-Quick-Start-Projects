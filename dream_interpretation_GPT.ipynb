{
 "cells": [
  {
   "cell_type": "code",
   "execution_count": 1,
   "id": "f1b0fb66",
   "metadata": {},
   "outputs": [],
   "source": [
    "from openai import OpenAI\n",
    "client = OpenAI(\n",
    "    api_key=\"sk-****\"\n",
    ")\n",
    "OPENAI_API_KEY = \"sk-****\""
   ]
  },
  {
   "cell_type": "code",
   "execution_count": 2,
   "id": "5671752a",
   "metadata": {},
   "outputs": [],
   "source": [
    "# imports\n",
    "import ast  # for converting embeddings saved as strings back to arrays\n",
    "import openai  # for calling the OpenAI API\n",
    "import pandas as pd  # for storing text and embeddings data\n",
    "import tiktoken  # for counting tokens\n",
    "from scipy import spatial  # for calculating vector similarities for search\n",
    "\n",
    "\n",
    "# models\n",
    "EMBEDDING_MODEL = \"text-embedding-ada-002\"\n",
    "GPT_MODEL = \"gpt-3.5-turbo\""
   ]
  },
  {
   "cell_type": "code",
   "execution_count": 4,
   "id": "62d1eea6",
   "metadata": {},
   "outputs": [
    {
     "name": "stdout",
     "output_type": "stream",
     "text": [
      "자동차를 도난당하고 파손된 상태로 찾은 꿈은 여러 가지 의미를 가질 수 있습니다. 다음은 일반적인 해석 중 일부입니다.\n",
      "\n",
      "1. 소유물의 손실과 분노: 자동차는 소유물이며, 도난당하고 파손된 상태로 찾은 것은 소중한 것을 잃고 분노를 느끼는 상황을 나타낼 수 있습니다. 이 꿈은 현실에서 소중한 것을 잃거나 상처를 입었을 때의 감정을 반영할 수 있습니다.\n",
      "\n",
      "2. 자아의 파괴와 자존감: 자동차는 자아와 자존감을 상징하는 경우가 있습니다. 파손된 자동차는 자아의 파괴나 자존감의 상실을 나타낼 수 있습니다. 이 꿈은 자신의 능력이나 자신감에 대한 불안을 나타낼 수 있습니다.\n",
      "\n",
      "3. 제어력의 상실: 자동차를 도난당하고 파손된 상태로 찾은 꿈은 제어력의 상실을 나타낼 수 있습니다. 이 꿈은 현실에서 제어력을 잃거나 상황을 통제할 수 없는 느낌을 받을 때의 불안을 반영할 수 있습니다.\n",
      "\n",
      "이러한 해석은 일반적인 의미이며, 개인의 경험과 상황에 따라 다를 수 있습니다. 꿈을 해석할 때는 자신의 감정과 상황을 고려하여 의미를 해석하는 것이 중요합니다.\n"
     ]
    }
   ],
   "source": [
    "# example with a system message\n",
    "response = client.chat.completions.create(\n",
    "    model=GPT_MODEL,\n",
    "    messages=[\n",
    "        {\"role\": \"system\", \"content\": \"너는 꿈해몽에 대해서 심리학적으로 정통한 전문가다.\"},\n",
    "        {\"role\": \"user\", \"content\": \"자동차를 도난당했는데, 나중에 찾았다 그런데 내 자동차가 파손된 상태다. 나는 화가났다. 이런 꿈을 꾸었다. 해몽을 해줘.\"},\n",
    "    ],\n",
    "    temperature=0,\n",
    ")\n",
    "\n",
    "print(response.choices[0].message.content)"
   ]
  },
  {
   "cell_type": "code",
   "execution_count": 12,
   "id": "6ee16d42",
   "metadata": {},
   "outputs": [
    {
     "name": "stdout",
     "output_type": "stream",
     "text": [
      "자동차를 도난당하고 파손된 상태로 찾은 꿈은 여러 가지 의미를 가질 수 있습니다. 다음은 일반적인 해석 중 일부입니다.\n",
      "\n",
      "1. 소유물의 손실과 분노: 자동차는 소유물이며, 도난당하고 파손된 상태로 찾은 것은 소중한 것을 잃고 분노를 느끼는 상황을 나타낼 수 있습니다. 이 꿈은 현실에서 소중한 것을 잃거나 상처를 입었을 때의 감정을 반영할 수 있습니다.\n",
      "\n",
      "2. 자아의 파괴와 자존감: 자동차는 자아와 자존감을 상징하는 경우가 있습니다. 파손된 자동차는 자아의 파괴나 자존감의 상실을 나타낼 수 있습니다. 이 꿈은 자신의 능력이나 자신감에 대한 불안을 나타낼 수 있습니다.\n",
      "\n",
      "3. 제어력의 상실: 자동차를 도난당하고 파손된 상태로 찾은 꿈은 제어력의 상실을 나타낼 수 있습니다. 이 꿈은 현실에서 제어력을 잃거나 상황을 통제할 수 없는 느낌을 받을 때의 불안을 반영할 수 있습니다.\n",
      "\n",
      "이러한 해석은 일반적인 의미이며, 개인의 경험과 상황에 따라 다를 수 있습니다. 꿈을 해석할 때는 자신의 감정과 상황을 고려하여 의미를 해석하는 것이 중요합니다.\n"
     ]
    }
   ],
   "source": [
    "# 클래스로 구현\n",
    "\n",
    "import openai\n",
    "\n",
    "class DreamInterpreter:\n",
    "    def __init__(self, api_key, model=\"gpt-3.5-turbo\"):\n",
    "        openai.api_key = api_key\n",
    "        self.model = model\n",
    "\n",
    "    def interpret_dream(self, dream_description):\n",
    "        system_message = \"너는 꿈해몽에 대해서 심리학적으로 정통한 전문가다.\"\n",
    "        response = client.chat.completions.create(\n",
    "            model=self.model,\n",
    "            messages=[\n",
    "                {\"role\": \"system\", \"content\": system_message},\n",
    "                {\"role\": \"user\", \"content\": dream_description},\n",
    "            ],\n",
    "            temperature=0,\n",
    "        )\n",
    "        return response.choices[0].message.content\n",
    "\n",
    "# 사용 예시\n",
    "dream_interpreter = DreamInterpreter(OPENAI_API_KEY)\n",
    "\n",
    "# 질문 예시\n",
    "dream_description = \"자동차를 도난당했는데, 나중에 찾았다 그런데 내 자동차가 파손된 상태다. 나는 화가났다. 이런 꿈을 꾸었다. 해몽을 해줘.\"\n",
    "print(dream_interpreter.interpret_dream(dream_description))\n"
   ]
  },
  {
   "cell_type": "markdown",
   "id": "07f8755a",
   "metadata": {},
   "source": [
    "#  Gradio를 사용하여 DreamInterpreter 클래스를 웹 인터페이스로"
   ]
  },
  {
   "cell_type": "code",
   "execution_count": 15,
   "id": "ce53f4e0",
   "metadata": {},
   "outputs": [
    {
     "name": "stderr",
     "output_type": "stream",
     "text": [
      "/Users/kimkwangil/anaconda3/envs/py39/lib/python3.9/site-packages/gradio/inputs.py:27: UserWarning: Usage of gradio.inputs is deprecated, and will not be supported in the future, please import your component from gradio.components\n",
      "  warnings.warn(\n",
      "/Users/kimkwangil/anaconda3/envs/py39/lib/python3.9/site-packages/gradio/inputs.py:30: UserWarning: `optional` parameter is deprecated, and it has no effect\n",
      "  super().__init__(\n",
      "/Users/kimkwangil/anaconda3/envs/py39/lib/python3.9/site-packages/gradio/inputs.py:30: UserWarning: `numeric` parameter is deprecated, and it has no effect\n",
      "  super().__init__(\n"
     ]
    },
    {
     "name": "stdout",
     "output_type": "stream",
     "text": [
      "Running on local URL:  http://127.0.0.1:7861\n",
      "\n",
      "To create a public link, set `share=True` in `launch()`.\n"
     ]
    },
    {
     "data": {
      "text/html": [
       "<div><iframe src=\"http://127.0.0.1:7861/\" width=\"100%\" height=\"500\" allow=\"autoplay; camera; microphone; clipboard-read; clipboard-write;\" frameborder=\"0\" allowfullscreen></iframe></div>"
      ],
      "text/plain": [
       "<IPython.core.display.HTML object>"
      ]
     },
     "metadata": {},
     "output_type": "display_data"
    },
    {
     "data": {
      "text/plain": []
     },
     "execution_count": 15,
     "metadata": {},
     "output_type": "execute_result"
    }
   ],
   "source": [
    "import openai\n",
    "import gradio as gr\n",
    "\n",
    "class DreamInterpreter:\n",
    "    def __init__(self, api_key, model=\"gpt-3.5-turbo\"):\n",
    "        openai.api_key = api_key\n",
    "        self.model = model\n",
    "\n",
    "    def interpret_dream(self, dream_description):\n",
    "        system_message = \"너는 꿈해몽에 대해서 심리학적으로 정통한 전문가다.\"\n",
    "        response = client.chat.completions.create(\n",
    "            model=self.model,\n",
    "            messages=[\n",
    "                {\"role\": \"system\", \"content\": system_message},\n",
    "                {\"role\": \"user\", \"content\": dream_description},\n",
    "            ],\n",
    "            temperature=0,\n",
    "        )\n",
    "        return response.choices[0].message.content\n",
    "\n",
    "def main(dream_description):\n",
    "    return dream_interpreter.interpret_dream(dream_description)\n",
    "\n",
    "\n",
    "dream_interpreter = DreamInterpreter(OPENAI_API_KEY)\n",
    "\n",
    "iface = gr.Interface(\n",
    "    fn=main, \n",
    "    inputs=gr.inputs.Textbox(lines=2, placeholder=\"여기에 꿈의 설명을 입력하세요...\"), \n",
    "    outputs=\"text\"\n",
    ")\n",
    "\n",
    "iface.launch()"
   ]
  },
  {
   "cell_type": "code",
   "execution_count": null,
   "id": "e02dcd39",
   "metadata": {},
   "outputs": [],
   "source": []
  }
 ],
 "metadata": {
  "kernelspec": {
   "display_name": "Python 3 (ipykernel)",
   "language": "python",
   "name": "python3"
  },
  "language_info": {
   "codemirror_mode": {
    "name": "ipython",
    "version": 3
   },
   "file_extension": ".py",
   "mimetype": "text/x-python",
   "name": "python",
   "nbconvert_exporter": "python",
   "pygments_lexer": "ipython3",
   "version": "3.9.17"
  }
 },
 "nbformat": 4,
 "nbformat_minor": 5
}
