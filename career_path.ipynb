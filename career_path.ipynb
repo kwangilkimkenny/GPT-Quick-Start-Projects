{
 "cells": [
  {
   "cell_type": "code",
   "execution_count": 1,
   "id": "9df64326",
   "metadata": {},
   "outputs": [],
   "source": [
    "from openai import OpenAI\n",
    "client = OpenAI(\n",
    "    api_key=\"sk-****\"\n",
    ")\n",
    "OPENAI_API_KEY = \"sk-****\""
   ]
  },
  {
   "cell_type": "code",
   "execution_count": 2,
   "id": "40539aa8",
   "metadata": {},
   "outputs": [],
   "source": [
    "# imports\n",
    "import ast  # for converting embeddings saved as strings back to arrays\n",
    "import openai  # for calling the OpenAI API\n",
    "import pandas as pd  # for storing text and embeddings data\n",
    "import tiktoken  # for counting tokens\n",
    "from scipy import spatial  # for calculating vector similarities for search\n",
    "\n",
    "\n",
    "# models\n",
    "EMBEDDING_MODEL = \"text-embedding-ada-002\"\n",
    "GPT_MODEL = \"gpt-3.5-turbo\""
   ]
  },
  {
   "cell_type": "code",
   "execution_count": 4,
   "id": "439d57af",
   "metadata": {
    "scrolled": true
   },
   "outputs": [
    {
     "name": "stdout",
     "output_type": "stream",
     "text": [
      "농사를 시작하는 것은 흥미로운 도전입니다! 여기 몇 가지 조언을 드리겠습니다:\n",
      "\n",
      "1. 연구와 계획: 농사는 지식과 계획이 필요합니다. 먼저, 원하는 작물과 해당 작물을 재배하는 데 필요한 지식을 연구해보세요. 또한, 작물의 성장에 필요한 환경 요건과 재료, 장비 등을 파악하고 계획을 세워보세요.\n",
      "\n",
      "2. 실험과 경험: 농사는 시행착오를 통해 배우는 과정입니다. 작은 규모로 시작하여 다양한 작물을 실험해보세요. 실패를 두려워하지 말고, 경험을 통해 배우고 성장하세요.\n",
      "\n",
      "3. 협력과 네트워킹: 농사는 혼자서만 할 수 있는 일이 아닙니다. 지역 농부들과 협력하고, 경험과 지식을 공유하는 네트워크를 구축하세요. 이를 통해 문제를 해결하고 성공을 이끌어낼 수 있습니다.\n",
      "\n",
      "4. 기술의 활용: 소프트웨어 프로그래머와 메이커로서의 경험을 활용해 농사에 기술을 도입해보세요. 자동화 시스템, 센서, 데이터 분석 등을 활용하여 생산성을 향상시킬 수 있습니다.\n",
      "\n",
      "5. 지속 가능성과 혁신: 농사는 지속 가능한 방식으로 수행되어야 합니다. 환경 친화적인 재료와 방법을 사용하고, 혁신적인 아이디어를 도입하여 경쟁력을 갖추세요.\n",
      "\n",
      "6. 지속적인 학습과 개선: 농사는 변화하는 환경에 적응해야 합니다. 새로운 기술과 동향을 지속적으로 학습하고, 자신의 작물과 농장을 개선하는 방법을 찾아보세요.\n",
      "\n",
      "농사는 시간과 노력이 필요한 일이지만, 당신의 경험과 열정을 바탕으로 성공할 수 있을 것입니다. 행운을 빕니다!\n"
     ]
    }
   ],
   "source": [
    "# example with a system message\n",
    "response = client.chat.completions.create(\n",
    "    model=GPT_MODEL,\n",
    "    messages=[\n",
    "        {\"role\": \"system\", \"content\": \"너는 매우 경험이 많은 커리어 컨설턴트다.\"},\n",
    "        {\"role\": \"user\", \"content\": \"나는 소프트웨어 프로그래머이자 메이커다. 난 이제 농사를 지어보려고하는데, 나의 경력을 살려서 농부로 성공할 수 있도록 나한테 조언을 해줘.\"},\n",
    "    ],\n",
    "    temperature=0,\n",
    ")\n",
    "\n",
    "print(response.choices[0].message.content)"
   ]
  },
  {
   "cell_type": "code",
   "execution_count": null,
   "id": "7369ff61",
   "metadata": {},
   "outputs": [],
   "source": []
  },
  {
   "cell_type": "markdown",
   "id": "acc2d26c",
   "metadata": {},
   "source": [
    "# 경력상담을 위한 질문 목록\n",
    "\n",
    "경력상담은 개인의 경력 목표, 관심사, 기술, 역량, 경험 및 직업적 선호도를 파악하는 데 중점을 둡니다. 다음은 몇 가지 예시 질문입니다:\n",
    "\n",
    "1. **현재 직업에서 가장 좋아하는 것과 좋아하지 않는 것은 무엇입니까?**\n",
    "   - 현재 직업의 긍정적 및 부정적 측면을 이해하는 데 도움이 됩니다.\n",
    "\n",
    "2. **귀하의 장기 및 단기 경력 목표는 무엇입니까?**\n",
    "   - 상담 대상자의 경력 목표와 이를 달성하기 위한 계획을 명확히 하는 데 도움이 됩니다.\n",
    "\n",
    "3. **어떤 기술이나 역량을 개발하고 싶습니까?**\n",
    "   - 개인이 자신의 역량을 어떻게 강화하고 싶어하는지 파악하는 데 중요합니다.\n",
    "\n",
    "4. **귀하에게 이상적인 직업 환경은 어떤 모습입니까?**\n",
    "   - 근무 환경, 기업 문화, 업무 스타일 등에 대한 선호도를 이해하는 데 도움이 됩니다.\n",
    "\n",
    "5. **현재 업무에서 가장 큰 도전은 무엇이었고, 그것을 어떻게 극복했습니까?**\n",
    "   - 문제 해결 능력과 직면한 도전에 대한 대처 방식을 평가하는 데 도움이 됩니다.\n",
    "\n",
    "6. **어떤 종류의 직업이나 업종에 관심이 있습니까?**\n",
    "   - 상담 대상자의 관심 분야를 파악하는 데 중요합니다.\n",
    "\n",
    "7. **지금까지의 경력에서 가장 자랑스러운 성과는 무엇입니까?**\n",
    "   - 개인의 성취와 성공 경험을 탐색합니다.\n",
    "\n",
    "8. **경력 변화를 고려하는 이유는 무엇입니까?**\n",
    "   - 경력 전환을 고려하는 동기를 이해하는 데 도움이 됩니다.\n",
    "\n",
    "9. **귀하의 이상적인 직업 균형은 어떤 모습입니까?**\n",
    "   - 업무와 개인 생활 간의 균형에 대한 선호도를 파악하는 데 중요합니다.\n",
    "\n",
    "10. **현재 직업에서 어떤 개선을 원하십니까?**\n",
    "    - 현재 직업에서의 불만족 요소와 그에 대한 기대를 파악하는 데 도움이 됩니다.\n"
   ]
  },
  {
   "cell_type": "code",
   "execution_count": 5,
   "id": "b44ed235",
   "metadata": {},
   "outputs": [
    {
     "name": "stdout",
     "output_type": "stream",
     "text": [
      "농사를 시작하는 것은 흥미로운 도전입니다! 여기 몇 가지 조언을 드리겠습니다:\n",
      "\n",
      "1. 연구와 계획: 농사는 지식과 계획이 필요합니다. 먼저, 원하는 작물과 해당 작물을 재배하는 데 필요한 지식을 연구해보세요. 또한, 작물의 성장에 필요한 환경 요건과 재료, 장비 등을 파악하고 계획을 세워보세요.\n",
      "\n",
      "2. 실험과 경험: 농사는 시행착오를 통해 배우는 과정입니다. 작물을 심고 관리하면서 경험을 쌓아보세요. 실패와 성공을 통해 농사 기술을 향상시킬 수 있습니다.\n",
      "\n",
      "3. 협력과 네트워킹: 농사는 혼자서만 할 수 있는 일이 아닙니다. 지역 농부들과 협력하고 지식을 공유하는 것이 중요합니다. 농업 협회나 커뮤니티에 가입하여 네트워킹을 활발히 해보세요.\n",
      "\n",
      "4. 기술의 활용: 소프트웨어 프로그래머로서의 경험을 활용해 농사에 기술을 도입해보세요. 예를 들어, IoT 기기를 사용하여 작물의 성장 상태를 모니터링하거나, 데이터 분석을 통해 효율적인 재배 방법을 개발할 수 있습니다.\n",
      "\n",
      "5. 지속 가능성과 혁신: 농사는 지속 가능한 방식으로 수행되어야 합니다. 환경 친화적인 재배 방법과 자원 관리에 신경을 쓰세요. 또한, 새로운 아이디어와 혁신을 도입하여 경쟁력을 갖추세요.\n",
      "\n",
      "농사는 시간과 노력이 필요한 일이지만, 당신의 경험과 열정을 바탕으로 성공할 수 있을 것입니다. 행운을 빕니다!\n"
     ]
    }
   ],
   "source": [
    "# 클래스로 구현\n",
    "\n",
    "import openai\n",
    "\n",
    "class DreamInterpreter:\n",
    "    def __init__(self, api_key, model=\"gpt-3.5-turbo\"):\n",
    "        openai.api_key = api_key\n",
    "        self.model = model\n",
    "\n",
    "    def interpret_dream(self, dream_description):\n",
    "        system_message = \"너는 매우 경험이 많은 커리어 컨설턴트다.\"\n",
    "        response = client.chat.completions.create(\n",
    "            model=self.model,\n",
    "            messages=[\n",
    "                {\"role\": \"system\", \"content\": system_message},\n",
    "                {\"role\": \"user\", \"content\": dream_description},\n",
    "            ],\n",
    "            temperature=0,\n",
    "        )\n",
    "        return response.choices[0].message.content\n",
    "\n",
    "# 사용 예시\n",
    "dream_interpreter = DreamInterpreter(OPENAI_API_KEY)\n",
    "\n",
    "# 질문 예시\n",
    "dream_description = \"나는 소프트웨어 프로그래머이자 메이커다. 난 이제 농사를 지어보려고하는데, 나의 경력을 살려서 농부로 성공할 수 있도록 나한테 조언을 해줘.\"\n",
    "print(dream_interpreter.interpret_dream(dream_description))\n"
   ]
  },
  {
   "cell_type": "code",
   "execution_count": 9,
   "id": "dfc089a7",
   "metadata": {},
   "outputs": [
    {
     "name": "stderr",
     "output_type": "stream",
     "text": [
      "/Users/kimkwangil/anaconda3/envs/py39/lib/python3.9/site-packages/gradio/inputs.py:27: UserWarning: Usage of gradio.inputs is deprecated, and will not be supported in the future, please import your component from gradio.components\n",
      "  warnings.warn(\n",
      "/Users/kimkwangil/anaconda3/envs/py39/lib/python3.9/site-packages/gradio/inputs.py:30: UserWarning: `optional` parameter is deprecated, and it has no effect\n",
      "  super().__init__(\n",
      "/Users/kimkwangil/anaconda3/envs/py39/lib/python3.9/site-packages/gradio/inputs.py:30: UserWarning: `numeric` parameter is deprecated, and it has no effect\n",
      "  super().__init__(\n"
     ]
    },
    {
     "name": "stdout",
     "output_type": "stream",
     "text": [
      "Running on local URL:  http://127.0.0.1:7865\n",
      "\n",
      "To create a public link, set `share=True` in `launch()`.\n"
     ]
    },
    {
     "data": {
      "text/html": [
       "<div><iframe src=\"http://127.0.0.1:7865/\" width=\"100%\" height=\"500\" allow=\"autoplay; camera; microphone; clipboard-read; clipboard-write;\" frameborder=\"0\" allowfullscreen></iframe></div>"
      ],
      "text/plain": [
       "<IPython.core.display.HTML object>"
      ]
     },
     "metadata": {},
     "output_type": "display_data"
    },
    {
     "data": {
      "text/plain": []
     },
     "execution_count": 9,
     "metadata": {},
     "output_type": "execute_result"
    }
   ],
   "source": [
    "import openai\n",
    "import gradio as gr\n",
    "\n",
    "class CareerCounselor:\n",
    "    def __init__(self, api_key, model=\"gpt-3.5-turbo\"):\n",
    "        openai.api_key = api_key\n",
    "        self.model = model\n",
    "\n",
    "    def get_career_advice(self, answers):\n",
    "        system_message = \"신은 경력 상담 전문가입니다. 다음의 응답을 바탕으로 종합적인 조언을 제공하세요.\"\n",
    "        messages = [{\"role\": \"system\", \"content\": system_message}]\n",
    "        questions = [\n",
    "            \"현재 직업에서 가장 좋아하는 것과 좋아하지 않는 것은 무엇입니까?\",\n",
    "            \"귀하의 장기 및 단기 경력 목표는 무엇입니까?\",\n",
    "            \"어떤 기술이나 역량을 개발하고 싶습니까?\",\n",
    "            \"귀하에게 이상적인 직업 환경은 어떤 모습입니까?\",\n",
    "            \"현재 업무에서 가장 큰 도전은 무엇이었고, 그것을 어떻게 극복했습니까?\",\n",
    "            \"어떤 종류의 직업이나 업종에 관심이 있습니까?\",\n",
    "            \"지금까지의 경력에서 가장 자랑스러운 성과는 무엇입니까?\",\n",
    "            \"경력 변화를 고려하는 이유는 무엇입니까?\",\n",
    "            \"귀하의 이상적인 직업 균형은 어떤 모습입니까?\",\n",
    "            \"현재 직업에서 어떤 개선을 원하십니까?\"\n",
    "        ]\n",
    "\n",
    "        for question, answer in zip(questions, answers):\n",
    "            messages.append({\"role\": \"user\", \"content\": question})\n",
    "            messages.append({\"role\": \"assistant\", \"content\": answer})\n",
    "\n",
    "        response =  client.chat.completions.create(\n",
    "            model=self.model,\n",
    "            messages=messages,\n",
    "            temperature=0,\n",
    "        )\n",
    "        return response.choices[0].message.content\n",
    "\n",
    "def main(*answers):\n",
    "    return career_counselor.get_career_advice(answers)\n",
    "\n",
    "# OPENAI_API_KEY = \"your-api-key\"  # OpenAI API 키를 여기에 입력하세요.\n",
    "career_counselor = CareerCounselor(OPENAI_API_KEY)\n",
    "\n",
    "questions = [\n",
    "    \"현재 직업에서 가장 좋아하는 것과 좋아하지 않는 것은 무엇입니까?\",\n",
    "    \"귀하의 장기 및 단기 경력 목표는 무엇입니까?\",\n",
    "    \"어떤 기술이나 역량을 개발하고 싶습니까?\",\n",
    "    \"귀하에게 이상적인 직업 환경은 어떤 모습입니까?\",\n",
    "    \"현재 업무에서 가장 큰 도전은 무엇이었고, 그것을 어떻게 극복했습니까?\",\n",
    "    \"어떤 종류의 직업이나 업종에 관심이 있습니까?\",\n",
    "    \"지금까지의 경력에서 가장 자랑스러운 성과는 무엇입니까?\",\n",
    "    \"경력 변화를 고려하는 이유는 무엇입니까?\",\n",
    "    \"귀하의 이상적인 직업 균형은 어떤 모습입니까?\",\n",
    "    \"현재 직업에서 어떤 개선을 원하십니까?\"\n",
    "]\n",
    "\n",
    "inputs = [gr.inputs.Textbox(label=question) for question in questions]\n",
    "\n",
    "iface = gr.Interface(\n",
    "    fn=main, \n",
    "    inputs=inputs, \n",
    "    outputs=\"text\"\n",
    ")\n",
    "\n",
    "iface.launch()"
   ]
  },
  {
   "cell_type": "markdown",
   "id": "3849bae8",
   "metadata": {},
   "source": [
    "# 응용개발할 수 있는 것들"
   ]
  },
  {
   "cell_type": "markdown",
   "id": "c0a0a6e7",
   "metadata": {},
   "source": [
    "# 사람들이 관심을 가질 수 있는 다양한 주제들\n",
    "\n",
    "## 건강과 웰빙\n",
    "- 신체적, 정신적 건강 관리\n",
    "- 운동\n",
    "- 영양\n",
    "- 스트레스 관리\n",
    "- 자기 관리\n",
    "\n",
    "## 재정 및 투자\n",
    "- 개인 재정 관리\n",
    "- 저축\n",
    "- 투자\n",
    "- 부동산\n",
    "- 연금\n",
    "- 예산 계획\n",
    "\n",
    "## 교육 및 자기 개발\n",
    "- 학습 기회\n",
    "- 취미\n",
    "- 언어 학습\n",
    "- 전문 기술 개발\n",
    "- 온라인 강좌\n",
    "\n",
    "## 가족 및 인간 관계\n",
    "- 가족 관계\n",
    "- 육아\n",
    "- 친구 관계\n",
    "- 갈등 해결\n",
    "\n",
    "## 여가 및 취미\n",
    "- 여행\n",
    "- 음악\n",
    "- 독서\n",
    "- 요리\n",
    "- 예술\n",
    "- 영화\n",
    "\n",
    "## 직장 및 조직 문화\n",
    "- 직장 내 소통\n",
    "- 팀워크\n",
    "- 리더십\n",
    "- 조직 개선\n",
    "\n",
    "## 사회적 이슈와 트렌드\n",
    "- 사회적 변화\n",
    "- 환경 문제\n",
    "- 정치\n",
    "- 기술의 발전\n",
    "- 문화적 트렌드\n",
    "\n",
    "## 정신적, 영적 개발\n",
    "- 명상\n",
    "- 요가\n",
    "- 영성\n",
    "- 심리학\n",
    "- 철학\n"
   ]
  },
  {
   "cell_type": "code",
   "execution_count": null,
   "id": "a11ee855",
   "metadata": {},
   "outputs": [],
   "source": []
  }
 ],
 "metadata": {
  "kernelspec": {
   "display_name": "Python 3 (ipykernel)",
   "language": "python",
   "name": "python3"
  },
  "language_info": {
   "codemirror_mode": {
    "name": "ipython",
    "version": 3
   },
   "file_extension": ".py",
   "mimetype": "text/x-python",
   "name": "python",
   "nbconvert_exporter": "python",
   "pygments_lexer": "ipython3",
   "version": "3.9.17"
  }
 },
 "nbformat": 4,
 "nbformat_minor": 5
}
